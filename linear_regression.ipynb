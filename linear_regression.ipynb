{
  "nbformat": 4,
  "nbformat_minor": 0,
  "metadata": {
    "colab": {
      "name": "linear_regression.ipynb",
      "provenance": [],
      "collapsed_sections": [],
      "authorship_tag": "ABX9TyPO38gTfqQ/igODquwos7Be",
      "include_colab_link": true
    },
    "kernelspec": {
      "name": "python3",
      "display_name": "Python 3"
    }
  },
  "cells": [
    {
      "cell_type": "markdown",
      "metadata": {
        "id": "view-in-github",
        "colab_type": "text"
      },
      "source": [
        "<a href=\"https://colab.research.google.com/github/amrish1222/DL_pytorch_regression/blob/master/linear_regression.ipynb\" target=\"_parent\"><img src=\"https://colab.research.google.com/assets/colab-badge.svg\" alt=\"Open In Colab\"/></a>"
      ]
    },
    {
      "cell_type": "code",
      "metadata": {
        "id": "CGnvcqmefxv5",
        "colab_type": "code",
        "colab": {}
      },
      "source": [
        "import torch\n",
        "import torch.nn as nn\n",
        "import matplotlib.pyplot as plt\n",
        "import numpy as np"
      ],
      "execution_count": 0,
      "outputs": []
    },
    {
      "cell_type": "code",
      "metadata": {
        "id": "qaC1bPYJi9Cv",
        "colab_type": "code",
        "outputId": "da0f5776-e56e-4015-cf3c-fd9628deaa67",
        "colab": {
          "base_uri": "https://localhost:8080/",
          "height": 296
        }
      },
      "source": [
        "X = torch.randn(100,1)* 10\n",
        "y = X + torch.randn(100,1)*3\n",
        "plt.plot(X.numpy(), y.numpy(),'o')\n",
        "plt.ylabel('y')\n",
        "plt.xlabel('x')"
      ],
      "execution_count": 0,
      "outputs": [
        {
          "output_type": "execute_result",
          "data": {
            "text/plain": [
              "Text(0.5, 0, 'x')"
            ]
          },
          "metadata": {
            "tags": []
          },
          "execution_count": 2
        },
        {
          "output_type": "display_data",
          "data": {
            "image/png": "[encoded data removed]",
            "text/plain": [
              "<Figure size 432x288 with 1 Axes>"
            ]
          },
          "metadata": {
            "tags": [],
            "needs_background": "light"
          }
        }
      ]
    },
    {
      "cell_type": "code",
      "metadata": {
        "id": "Q3Bc1M2Eg7f5",
        "colab_type": "code",
        "colab": {}
      },
      "source": [
        "class LR(nn.Module):\n",
        "  def __init__(self, input_size, output_size):\n",
        "    super(LR, self).__init__()\n",
        "    self.linear = nn.Linear(input_size, output_size)\n",
        "  \n",
        "  def forward(self, x):\n",
        "    pred = self.linear(x)\n",
        "    return pred"
      ],
      "execution_count": 0,
      "outputs": []
    },
    {
      "cell_type": "code",
      "metadata": {
        "id": "SaYkLcpwhvvh",
        "colab_type": "code",
        "outputId": "cffc331d-eeb7-48b7-c23f-59fb28865c49",
        "colab": {
          "base_uri": "https://localhost:8080/",
          "height": 67
        }
      },
      "source": [
        "torch.manual_seed(1)\n",
        "model = LR(1,1)\n",
        "print(model)"
      ],
      "execution_count": 0,
      "outputs": [
        {
          "output_type": "stream",
          "text": [
            "LR(\n",
            "  (linear): Linear(in_features=1, out_features=1, bias=True)\n",
            ")\n"
          ],
          "name": "stdout"
        }
      ]
    },
    {
      "cell_type": "code",
      "metadata": {
        "id": "fCQMdz6kkHz3",
        "colab_type": "code",
        "outputId": "20f5718a-a944-4bd4-e826-3636e98b6442",
        "colab": {
          "base_uri": "https://localhost:8080/",
          "height": 34
        }
      },
      "source": [
        "w,b = model.parameters()\n",
        "w1 = w[0][0].item()\n",
        "b1 = b[0].item()\n",
        "print(w1,b1)\n",
        "def get_params():\n",
        "  return (w[0][0].item(), b[0].item())"
      ],
      "execution_count": 0,
      "outputs": [
        {
          "output_type": "stream",
          "text": [
            "0.5152631998062134 -0.44137823581695557\n"
          ],
          "name": "stdout"
        }
      ]
    },
    {
      "cell_type": "code",
      "metadata": {
        "id": "JVwLWk5Okyvl",
        "colab_type": "code",
        "colab": {}
      },
      "source": [
        "def plot_fit(title):\n",
        "  plt.title = title\n",
        "  w1, b1 = get_params()\n",
        "  x1 = np.array([-30,30])\n",
        "  y1 = w1*x1 + b1\n",
        "  plt.plot(x1, y1, 'r')\n",
        "  plt.scatter(X,y)\n",
        "  plt.show()"
      ],
      "execution_count": 0,
      "outputs": []
    },
    {
      "cell_type": "code",
      "metadata": {
        "id": "XSU6iYoclOf6",
        "colab_type": "code",
        "outputId": "13ae8bcf-721d-4876-8fd5-6d7da386ffe6",
        "colab": {
          "base_uri": "https://localhost:8080/",
          "height": 265
        }
      },
      "source": [
        "plot_fit('Initial Model')"
      ],
      "execution_count": 0,
      "outputs": [
        {
          "output_type": "display_data",
          "data": {
            "image/png": "[encoded data removed]",
            "text/plain": [
              "<Figure size 432x288 with 1 Axes>"
            ]
          },
          "metadata": {
            "tags": [],
            "needs_background": "light"
          }
        }
      ]
    },
    {
      "cell_type": "code",
      "metadata": {
        "id": "eWjzoi4qn5tv",
        "colab_type": "code",
        "colab": {}
      },
      "source": [
        "criterion = nn.MSELoss()\n",
        "optimizer = torch.optim.SGD(model.parameters(), lr = 0.001)"
      ],
      "execution_count": 0,
      "outputs": []
    },
    {
      "cell_type": "code",
      "metadata": {
        "id": "suaOISXpobrv",
        "colab_type": "code",
        "outputId": "5b83c605-a0a0-4139-ee41-24e464f64652",
        "colab": {
          "base_uri": "https://localhost:8080/",
          "height": 1000
        }
      },
      "source": [
        "epochs = 100\n",
        "losses = []\n",
        "for i in range(epochs):\n",
        "  y_pred = model.forward(X)\n",
        "  loss = criterion(y_pred, y)\n",
        "  \n",
        "  losses.append(loss)\n",
        "  print(\"epoch:\", i, \"loss: %0.3f\" % loss.item())\n",
        "\n",
        "  optimizer.zero_grad()\n",
        "  loss.backward()\n",
        "  optimizer.step()"
      ],
      "execution_count": 0,
      "outputs": [
        {
          "output_type": "stream",
          "text": [
            "epoch: 0 loss: 8.359\n",
            "epoch: 1 loss: 8.359\n",
            "epoch: 2 loss: 8.359\n",
            "epoch: 3 loss: 8.359\n",
            "epoch: 4 loss: 8.358\n",
            "epoch: 5 loss: 8.358\n",
            "epoch: 6 loss: 8.358\n",
            "epoch: 7 loss: 8.358\n",
            "epoch: 8 loss: 8.358\n",
            "epoch: 9 loss: 8.358\n",
            "epoch: 10 loss: 8.358\n",
            "epoch: 11 loss: 8.358\n",
            "epoch: 12 loss: 8.358\n",
            "epoch: 13 loss: 8.358\n",
            "epoch: 14 loss: 8.358\n",
            "epoch: 15 loss: 8.358\n",
            "epoch: 16 loss: 8.358\n",
            "epoch: 17 loss: 8.358\n",
            "epoch: 18 loss: 8.358\n",
            "epoch: 19 loss: 8.358\n",
            "epoch: 20 loss: 8.358\n",
            "epoch: 21 loss: 8.357\n",
            "epoch: 22 loss: 8.357\n",
            "epoch: 23 loss: 8.357\n",
            "epoch: 24 loss: 8.357\n",
            "epoch: 25 loss: 8.357\n",
            "epoch: 26 loss: 8.357\n",
            "epoch: 27 loss: 8.357\n",
            "epoch: 28 loss: 8.357\n",
            "epoch: 29 loss: 8.357\n",
            "epoch: 30 loss: 8.357\n",
            "epoch: 31 loss: 8.357\n",
            "epoch: 32 loss: 8.357\n",
            "epoch: 33 loss: 8.357\n",
            "epoch: 34 loss: 8.357\n",
            "epoch: 35 loss: 8.357\n",
            "epoch: 36 loss: 8.357\n",
            "epoch: 37 loss: 8.357\n",
            "epoch: 38 loss: 8.356\n",
            "epoch: 39 loss: 8.356\n",
            "epoch: 40 loss: 8.356\n",
            "epoch: 41 loss: 8.356\n",
            "epoch: 42 loss: 8.356\n",
            "epoch: 43 loss: 8.356\n",
            "epoch: 44 loss: 8.356\n",
            "epoch: 45 loss: 8.356\n",
            "epoch: 46 loss: 8.356\n",
            "epoch: 47 loss: 8.356\n",
            "epoch: 48 loss: 8.356\n",
            "epoch: 49 loss: 8.356\n",
            "epoch: 50 loss: 8.356\n",
            "epoch: 51 loss: 8.356\n",
            "epoch: 52 loss: 8.356\n",
            "epoch: 53 loss: 8.356\n",
            "epoch: 54 loss: 8.356\n",
            "epoch: 55 loss: 8.356\n",
            "epoch: 56 loss: 8.356\n",
            "epoch: 57 loss: 8.355\n",
            "epoch: 58 loss: 8.355\n",
            "epoch: 59 loss: 8.355\n",
            "epoch: 60 loss: 8.355\n",
            "epoch: 61 loss: 8.355\n",
            "epoch: 62 loss: 8.355\n",
            "epoch: 63 loss: 8.355\n",
            "epoch: 64 loss: 8.355\n",
            "epoch: 65 loss: 8.355\n",
            "epoch: 66 loss: 8.355\n",
            "epoch: 67 loss: 8.355\n",
            "epoch: 68 loss: 8.355\n",
            "epoch: 69 loss: 8.355\n",
            "epoch: 70 loss: 8.355\n",
            "epoch: 71 loss: 8.355\n",
            "epoch: 72 loss: 8.355\n",
            "epoch: 73 loss: 8.355\n",
            "epoch: 74 loss: 8.355\n",
            "epoch: 75 loss: 8.355\n",
            "epoch: 76 loss: 8.355\n",
            "epoch: 77 loss: 8.354\n",
            "epoch: 78 loss: 8.354\n",
            "epoch: 79 loss: 8.354\n",
            "epoch: 80 loss: 8.354\n",
            "epoch: 81 loss: 8.354\n",
            "epoch: 82 loss: 8.354\n",
            "epoch: 83 loss: 8.354\n",
            "epoch: 84 loss: 8.354\n",
            "epoch: 85 loss: 8.354\n",
            "epoch: 86 loss: 8.354\n",
            "epoch: 87 loss: 8.354\n",
            "epoch: 88 loss: 8.354\n",
            "epoch: 89 loss: 8.354\n",
            "epoch: 90 loss: 8.354\n",
            "epoch: 91 loss: 8.354\n",
            "epoch: 92 loss: 8.354\n",
            "epoch: 93 loss: 8.354\n",
            "epoch: 94 loss: 8.354\n",
            "epoch: 95 loss: 8.354\n",
            "epoch: 96 loss: 8.354\n",
            "epoch: 97 loss: 8.354\n",
            "epoch: 98 loss: 8.354\n",
            "epoch: 99 loss: 8.354\n"
          ],
          "name": "stdout"
        }
      ]
    },
    {
      "cell_type": "code",
      "metadata": {
        "id": "vxau27lGqTge",
        "colab_type": "code",
        "outputId": "d6dac721-fee8-4f42-e380-9da8bc9a5e1f",
        "colab": {
          "base_uri": "https://localhost:8080/",
          "height": 296
        }
      },
      "source": [
        "plt.plot(range(epochs), losses)\n",
        "plt.ylabel('Loss')\n",
        "plt.xlabel('epoch')"
      ],
      "execution_count": 0,
      "outputs": [
        {
          "output_type": "execute_result",
          "data": {
            "text/plain": [
              "Text(0.5, 0, 'epoch')"
            ]
          },
          "metadata": {
            "tags": []
          },
          "execution_count": 10
        },
        {
          "output_type": "display_data",
          "data": {
            "image/png": "[encoded data removed]",
            "text/plain": [
              "<Figure size 432x288 with 1 Axes>"
            ]
          },
          "metadata": {
            "tags": [],
            "needs_background": "light"
          }
        }
      ]
    },
    {
      "cell_type": "code",
      "metadata": {
        "id": "o_yqBLA_qmTP",
        "colab_type": "code",
        "outputId": "3a4c977f-2c5b-4ed3-900b-e3efcf1561f5",
        "colab": {
          "base_uri": "https://localhost:8080/",
          "height": 265
        }
      },
      "source": [
        "plot_fit('Trained Model')"
      ],
      "execution_count": 0,
      "outputs": [
        {
          "output_type": "display_data",
          "data": {
            "image/png": "[encoded data removed]",
            "text/plain": [
              "<Figure size 432x288 with 1 Axes>"
            ]
          },
          "metadata": {
            "tags": [],
            "needs_background": "light"
          }
        }
      ]
    }
  ]
}